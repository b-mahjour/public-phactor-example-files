{
 "cells": [
  {
   "cell_type": "code",
   "execution_count": 16,
   "id": "2c70ccde-a195-4b02-b846-dce70133fc0b",
   "metadata": {},
   "outputs": [],
   "source": [
    "import xml.etree.cElementTree as ET\n",
    "import pandas as pd\n",
    "\n",
    "data = pd.read_csv(\"5. zz210326_final_results.csv\")\n",
    "data_stocks = pd.read_csv(\"5. zz210326_recipe.csv\")\n",
    "\n",
    "root = ET.Element(\"XDL\")\n",
    "synthesis = ET.SubElement(root, \"Synthesis\")\n",
    "reagents = ET.SubElement(synthesis, \"Reagents\")\n",
    "component_types = [\"Electrophile\", \"Nucleophile\", \"Catalyst1\", \"Ligand1\", \"Ligand2\", \"Catalyst2\", \"BaseAcid\", \"ReductantOxidant\", \"Additive\"]\n",
    "\n",
    "for i,k in data_stocks.iterrows():\n",
    "    ET.SubElement(reagents, \"Reagent\", \n",
    "                  name=k[\"name\"],\n",
    "                  id=k[\"name\"],\n",
    "                  role=\"reagent\"\n",
    "                 )\n",
    "\n",
    "for i2, k2 in data.iterrows():\n",
    "    reagents = ET.SubElement(synthesis, \"Procedure\", name=k2[\"Row\"]+str(k2[\"Column\"]))\n",
    "    for i3 in component_types:\n",
    "        if k2[i3] == None or k2[i3] == \"None\":\n",
    "            continue\n",
    "        reagent2 = ET.SubElement(reagents, \"Add\", \n",
    "                                 name=k2[i3],\n",
    "                                 volume=\"200 uL\")\n",
    "\n",
    "tree = ET.ElementTree(root)\n",
    "tree.write(\"filename.xml\")"
   ]
  }
 ],
 "metadata": {
  "kernelspec": {
   "display_name": "Python 3 (ipykernel)",
   "language": "python",
   "name": "python3"
  },
  "language_info": {
   "codemirror_mode": {
    "name": "ipython",
    "version": 3
   },
   "file_extension": ".py",
   "mimetype": "text/x-python",
   "name": "python",
   "nbconvert_exporter": "python",
   "pygments_lexer": "ipython3",
   "version": "3.9.7"
  }
 },
 "nbformat": 4,
 "nbformat_minor": 5
}
