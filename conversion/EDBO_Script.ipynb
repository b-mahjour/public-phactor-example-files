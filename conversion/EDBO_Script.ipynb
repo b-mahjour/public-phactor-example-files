{
 "cells": [
  {
   "cell_type": "code",
   "execution_count": 1,
   "id": "6637aece-3f40-461e-91b1-3ac4ae8e357e",
   "metadata": {},
   "outputs": [],
   "source": [
    "from rdkit import Chem\n",
    "from rdkit import RDLogger                                                                                                                                                               \n",
    "RDLogger.DisableLog('rdApp.*')                                                                                                                                                           \n",
    "import pandas as pd\n",
    "\n",
    "data = pd.read_csv(\"5. zz210326_final_results.csv\")\n",
    "component_types = [\"Electrophile\", \"Nucleophile\", \"Catalyst1\", \"Ligand1\", \"Ligand2\", \"Catalyst2\", \\\n",
    "                   \"BaseAcid\", \"ReductantOxidant\", \"Additive\", \"Solvent1\", \"Solvent2\", \"Output Value\"]\n",
    "component_amounts = {k:[] for k in component_types}\n",
    "for i,k in data.iterrows():\n",
    "    for j in component_types:\n",
    "            component_amounts[j] = k[j]\n",
    "data.to_excel(\"zz20326_EDBO+_input.xlsx\")\n"
   ]
  }
 ],
 "metadata": {
  "kernelspec": {
   "display_name": "Python 3 (ipykernel)",
   "language": "python",
   "name": "python3"
  },
  "language_info": {
   "codemirror_mode": {
    "name": "ipython",
    "version": 3
   },
   "file_extension": ".py",
   "mimetype": "text/x-python",
   "name": "python",
   "nbconvert_exporter": "python",
   "pygments_lexer": "ipython3",
   "version": "3.9.7"
  }
 },
 "nbformat": 4,
 "nbformat_minor": 5
}
