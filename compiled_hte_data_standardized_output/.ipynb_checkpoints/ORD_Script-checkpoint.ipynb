{
 "cells": [
  {
   "cell_type": "code",
   "execution_count": 20,
   "id": "6fe87652-38b0-4153-a87e-55dc0170c9bc",
   "metadata": {},
   "outputs": [],
   "source": [
    "reactions = []"
   ]
  },
  {
   "cell_type": "code",
   "execution_count": 50,
   "id": "c6b42a08-1237-4a8c-a9ee-a20a8bcdf0aa",
   "metadata": {},
   "outputs": [],
   "source": [
    "from ord_schema.proto import dataset_pb2\n",
    "from ord_schema.proto import reaction_pb2\n",
    "from ord_schema import message_helpers\n",
    "from rdkit import Chem\n",
    "from rdkit import RDLogger                                                                                                                                                               \n",
    "RDLogger.DisableLog('rdApp.*')                                                                                                                                                           \n",
    "import pandas as pd\n",
    "\n",
    "data = pd.read_excel(\"all_CC_data_compiled_20221027.xlsx\")\n",
    "\n",
    "component_types = [\"Electrophile\", \"Nucleophile\", \"Catalyst1\", \"Ligand1\", \"Ligand2\", \\\n",
    "                   \"Catalyst2\", \"BaseAcid\", \"ReductantOxidant\", \"Additive\", \"Solvent1\", \"Product\"]\n",
    "component_smiles = [k+\"_SMILES\" for k in component_types]\n",
    "component_charges = [k+\" charge\" for k in component_types]\n",
    "\n",
    "convert_data = {k:[] for k in component_types}\n",
    "for k in component_smiles:\n",
    "    convert_data[k] = []\n",
    "for k in component_charges:\n",
    "    convert_data[k] = []\n",
    "convert_data[\"Pd/IS\"] = []\n",
    "convert_data[\"Plate Position\"] = []\n",
    "convert_data[\"Reaction_type\"] = []\n",
    "convert_data[\"Temperature\"] = []\n",
    "    \n",
    "for i,k in data.iterrows():\n",
    "    for j in component_types:\n",
    "        convert_data[j].append(k[j])\n",
    "        if j == \"Solvent1\" or j == \"Solvent2\":\n",
    "            sm = \"None\"\n",
    "        else:\n",
    "            sm = k[j+\" SMILES\"]\n",
    "        if sm == None or sm == \"None\" or pd.isna(sm):\n",
    "            convert_data[j+\"_SMILES\"].append(\"None\")\n",
    "        else:\n",
    "            # print(sm)\n",
    "            sm = Chem.MolFromSmiles(sm)\n",
    "            if sm != None:\n",
    "                sm = Chem.MolToSmiles(sm)\n",
    "            else:\n",
    "                sm = \"None\"\n",
    "            convert_data[j+\"_SMILES\"].append(sm)\n",
    "        if j == \"Solvent1\" or j == \"Solvent2\" or j == \"Product\":\n",
    "            convert_data[j+\" charge\"].append(\"None\")\n",
    "        else:\n",
    "            convert_data[j+\" charge\"].append(f\"{k[j+ ' Conc (M)']}\")\n",
    "    convert_data[\"Pd/IS\"].append(k[\"Output Value\"])\n",
    "    convert_data[\"Plate Position\"].append(k[\"Row\"] + str(k[\"Column\"]))\n",
    "    # convert_data[\"Plate Position\"].append(k[\"1536loc\"])\n",
    "\n",
    "    convert_data[\"Reaction_type\"].append(k[\"Notebook\"])\n",
    "    convert_data[\"Temperature\"].append(k[\"Temperature\"])\n",
    "\n",
    "out_data = pd.DataFrame(convert_data)\n",
    "\n",
    "for i,k in out_data.iterrows():\n",
    "    reaction = reaction_pb2.Reaction()\n",
    "    for rxt in [\"Electrophile\", \"Nucleophile\", \"Catalyst1\", \"Ligand1\", \"Ligand2\", \"Catalyst2\", \"BaseAcid\", \"ReductantOxidant\", \"Additive\"]:\n",
    "        if k[rxt] == \"None\":\n",
    "            continue\n",
    "        solute = reaction.inputs[rxt].components.add()\n",
    "        solute.CopyFrom(\n",
    "            message_helpers.build_compound(\n",
    "                name=str(k[rxt]),\n",
    "                smiles=k[rxt+\"_SMILES\"],\n",
    "                role=\"reactant\",\n",
    "                amount=f\"{float(k[rxt+' charge'])*.1} mmol\",\n",
    "                prep=None,\n",
    "                is_limiting=False,\n",
    "                prep_details=None,\n",
    "            )\n",
    "        )\n",
    "    solvent = reaction.inputs[\"Solvent1\"].components.add()\n",
    "    solvent.CopyFrom(\n",
    "        message_helpers.build_compound(\n",
    "            name=k[\"Solvent1\"],\n",
    "            smiles=\"placeholder\",\n",
    "            role=\"solvent\",\n",
    "            amount=\"100 uL\",\n",
    "            prep=None,\n",
    "            is_limiting=False,\n",
    "            prep_details=None,\n",
    "        )\n",
    "    )\n",
    "    solvent.amount.volume_includes_solutes = True\n",
    "    \n",
    "    outcome = reaction.outcomes.add()\n",
    "    prod_2a = outcome.products.add(is_desired_product=True)\n",
    "    prod_2a.identifiers.add(type=\"SMILES\", value=k[\"Product_SMILES\"])\n",
    "    prod_2a.identifiers.add(type=\"NAME\", value=k[\"Product\"])\n",
    "    prod_2a.reaction_role = reaction_pb2.ReactionRole.PRODUCT\n",
    "    prod_2a.measurements.add(type=\"YIELD\", analysis_key=\"UPLC-MS Integration\", percentage=dict(value=k[\"Pd/IS\"], precision=5), uses_internal_standard=True)\n",
    "\n",
    "    reaction.conditions.temperature.CopyFrom(\n",
    "        reaction_pb2.TemperatureConditions(\n",
    "            control=(\n",
    "                dict(type=k[\"Temperature\"])\n",
    "            )\n",
    "        )\n",
    "    )\n",
    "    # reaction.conditions.add(type=\"Temperature\", value= k[\"Temperature\"])\n",
    "    reactions.append(reaction)\n",
    "    \n"
   ]
  },
  {
   "cell_type": "code",
   "execution_count": 51,
   "id": "c8ed9255-55ba-46a3-a39f-3b3d1873dbb2",
   "metadata": {},
   "outputs": [
    {
     "name": "stdout",
     "output_type": "stream",
     "text": [
      "5136\n"
     ]
    }
   ],
   "source": [
    "print(len(reactions))"
   ]
  },
  {
   "cell_type": "code",
   "execution_count": 52,
   "id": "1c9300e3-77fa-46b0-800d-5c375d3ec70e",
   "metadata": {},
   "outputs": [],
   "source": [
    "dataset = dataset_pb2.Dataset(\n",
    "    name=\"all_phactor_screens\",\n",
    "    description=\"Screens from figure2, figure3 and figure4 in the phactor paper\",\n",
    "    reactions=reactions,\n",
    ")\n",
    "message_helpers.write_message(dataset, 'ord-phactor-screens.pbtxt')"
   ]
  },
  {
   "cell_type": "code",
   "execution_count": null,
   "id": "f7269f30-e407-4760-9a45-cbe3a33bd3e2",
   "metadata": {},
   "outputs": [],
   "source": []
  }
 ],
 "metadata": {
  "kernelspec": {
   "display_name": "Python 3 (ipykernel)",
   "language": "python",
   "name": "python3"
  },
  "language_info": {
   "codemirror_mode": {
    "name": "ipython",
    "version": 3
   },
   "file_extension": ".py",
   "mimetype": "text/x-python",
   "name": "python",
   "nbconvert_exporter": "python",
   "pygments_lexer": "ipython3",
   "version": "3.9.7"
  }
 },
 "nbformat": 4,
 "nbformat_minor": 5
}
